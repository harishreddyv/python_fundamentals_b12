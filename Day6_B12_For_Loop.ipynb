{
 "cells": [
  {
   "cell_type": "code",
   "execution_count": 25,
   "metadata": {},
   "outputs": [
    {
     "name": "stdout",
     "output_type": "stream",
     "text": [
      "['harish', 'akbar', 'ranga', 'hema', 'ravi', 'nikitha']\n"
     ]
    }
   ],
   "source": [
    "#List Methods\n",
    "\n",
    "my_students=['harish','akbar','ranga','hema','ravi','nikitha']\n",
    "\n",
    "print(my_students)"
   ]
  },
  {
   "cell_type": "code",
   "execution_count": 34,
   "metadata": {},
   "outputs": [
    {
     "name": "stdout",
     "output_type": "stream",
     "text": [
      "['harish', 'akbar', 'ranga', 'hema', 'ravi', 'nikitha']\n",
      "harish\n",
      "akbar\n",
      "ranga\n",
      "hema\n",
      "ravi\n",
      "nikitha\n"
     ]
    }
   ],
   "source": [
    "#For Looop\n",
    "my_students=['harish','akbar','ranga','hema','ravi','nikitha']\n",
    "print(my_students)\n",
    "\n",
    "for student in my_students:\n",
    "    print(student)\n"
   ]
  },
  {
   "cell_type": "code",
   "execution_count": 54,
   "metadata": {},
   "outputs": [
    {
     "name": "stdout",
     "output_type": "stream",
     "text": [
      "HARISH, Good Job \n",
      " Completing the everday Pratice file \n",
      " do like regularly Keeptop!!\n",
      "\n",
      "AKBAR, Good Job \n",
      " Completing the everday Pratice file \n",
      " do like regularly Keeptop!!\n",
      "\n",
      "RANGA, Good Job \n",
      " Completing the everday Pratice file \n",
      " do like regularly Keeptop!!\n",
      "\n",
      "HEMA, Good Job \n",
      " Completing the everday Pratice file \n",
      " do like regularly Keeptop!!\n",
      "\n",
      "RAVI, Good Job \n",
      " Completing the everday Pratice file \n",
      " do like regularly Keeptop!!\n",
      "\n",
      "NIKITHA, Good Job \n",
      " Completing the everday Pratice file \n",
      " do like regularly Keeptop!!\n",
      "\n"
     ]
    }
   ],
   "source": [
    "#Enhancement of the Loop\n",
    "##Automating Print statement \n",
    "\n",
    "for x in my_students:\n",
    "    print( f\"{x.upper()}, Good Job \")\n",
    "    print( f\" Completing the everday Pratice file \")\n",
    "    print( f\" do like regularly Keeptop!!\\n\")"
   ]
  },
  {
   "cell_type": "code",
   "execution_count": 57,
   "metadata": {},
   "outputs": [
    {
     "name": "stdout",
     "output_type": "stream",
     "text": [
      "['Veeradimmu', 'pavan', 'Srinivasulu', 'vishal', 'sri', 'ram']\n"
     ]
    }
   ],
   "source": [
    "#new students list with another new variable name \n",
    "new_students = ['Veeradimmu','pavan','Srinivasulu','vishal','sri','ram']\n",
    "print(new_students)"
   ]
  },
  {
   "cell_type": "code",
   "execution_count": 63,
   "metadata": {},
   "outputs": [
    {
     "name": "stdout",
     "output_type": "stream",
     "text": [
      "Thanks for the Joining the Session,\tVeeradimmu\n",
      "Thanks for the Joining the Session,\tPavan\n",
      "Thanks for the Joining the Session,\tSrinivasulu\n",
      "Thanks for the Joining the Session,\tVishal\n",
      "Thanks for the Joining the Session,\tSri\n",
      "Thanks for the Joining the Session,\tRam\n"
     ]
    }
   ],
   "source": [
    "for l in new_students:\n",
    "    print(f\"Thanks for the Joining the Session,\\t{l.title()}\")"
   ]
  },
  {
   "cell_type": "code",
   "execution_count": 64,
   "metadata": {},
   "outputs": [
    {
     "name": "stdout",
     "output_type": "stream",
     "text": [
      "1\n",
      "2\n",
      "3\n",
      "4\n",
      "5\n",
      "6\n",
      "7\n",
      "8\n",
      "9\n",
      "10\n"
     ]
    }
   ],
   "source": [
    "#List-> Making Numerical list\n",
    "\n",
    "for value in range (1,11):\n",
    "    print(value)"
   ]
  },
  {
   "cell_type": "code",
   "execution_count": 66,
   "metadata": {},
   "outputs": [
    {
     "name": "stdout",
     "output_type": "stream",
     "text": [
      "[1, 2, 3, 4, 5, 6, 7, 8, 9, 10]\n"
     ]
    }
   ],
   "source": [
    "#How to use the range to make a list of numbers\n",
    "\n",
    "numbers = list(range(1,11))\n",
    "print(numbers)"
   ]
  },
  {
   "cell_type": "code",
   "execution_count": 74,
   "metadata": {},
   "outputs": [
    {
     "name": "stdout",
     "output_type": "stream",
     "text": [
      "[2, 4, 6, 8, 10, 12, 14, 16, 18, 20, 22, 24, 26, 28, 30, 32, 34, 36, 38, 40, 42, 44, 46, 48, 50]\n"
     ]
    }
   ],
   "source": [
    "#Print only even numbers from 1 to 50 by using range\n",
    "\n",
    "even_num = list(range(2,51,2))\n",
    "\n",
    "print(even_num)"
   ]
  },
  {
   "cell_type": "code",
   "execution_count": 75,
   "metadata": {},
   "outputs": [
    {
     "name": "stdout",
     "output_type": "stream",
     "text": [
      "Thanks for the class and It's day 6th pratice file\n"
     ]
    }
   ],
   "source": [
    "print(\"Thanks for the class and It's day 6th pratice file\")"
   ]
  },
  {
   "cell_type": "code",
   "execution_count": null,
   "metadata": {},
   "outputs": [],
   "source": []
  }
 ],
 "metadata": {
  "kernelspec": {
   "display_name": "Python 3",
   "language": "python",
   "name": "python3"
  },
  "language_info": {
   "codemirror_mode": {
    "name": "ipython",
    "version": 3
   },
   "file_extension": ".py",
   "mimetype": "text/x-python",
   "name": "python",
   "nbconvert_exporter": "python",
   "pygments_lexer": "ipython3",
   "version": "3.7.4"
  }
 },
 "nbformat": 4,
 "nbformat_minor": 2
}
