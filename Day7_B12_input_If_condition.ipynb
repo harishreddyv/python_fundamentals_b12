{
 "cells": [
  {
   "cell_type": "code",
   "execution_count": 7,
   "metadata": {},
   "outputs": [
    {
     "name": "stdout",
     "output_type": "stream",
     "text": [
      "\n",
      "Say someting and will Repeat it back for you!Hello Python World!\n",
      "Hello Python World!\n"
     ]
    }
   ],
   "source": [
    "#Accepting the User Input\n",
    "\n",
    "mesg = input(\"\\nSay someting and will Repeat it back for you!\")\n",
    "\n",
    "print(mesg)\n"
   ]
  },
  {
   "cell_type": "code",
   "execution_count": 10,
   "metadata": {},
   "outputs": [
    {
     "name": "stdout",
     "output_type": "stream",
     "text": [
      "Please your name:HarisH\n",
      "\n",
      " Hello Python World!, HarisH\n"
     ]
    }
   ],
   "source": [
    "#Enhancement of the code using '\\n'\n",
    "name = input(\"Please your name:\")\n",
    "\n",
    "print(f\"\\n Hello Python World!, {name}\")"
   ]
  },
  {
   "cell_type": "code",
   "execution_count": null,
   "metadata": {},
   "outputs": [],
   "source": [
    "*If Condition* \n",
    "--------------"
   ]
  },
  {
   "cell_type": "code",
   "execution_count": null,
   "metadata": {},
   "outputs": [],
   "source": [
    "#Use case: -> Build a Vote casting based on India Age criteria  "
   ]
  },
  {
   "cell_type": "code",
   "execution_count": 12,
   "metadata": {},
   "outputs": [
    {
     "name": "stdout",
     "output_type": "stream",
     "text": [
      "How old are You?10\n"
     ]
    },
    {
     "ename": "TypeError",
     "evalue": "'>=' not supported between instances of 'str' and 'int'",
     "output_type": "error",
     "traceback": [
      "\u001b[1;31m---------------------------------------------------------------------------\u001b[0m",
      "\u001b[1;31mTypeError\u001b[0m                                 Traceback (most recent call last)",
      "\u001b[1;32m<ipython-input-12-c444c6ae6dfd>\u001b[0m in \u001b[0;36m<module>\u001b[1;34m\u001b[0m\n\u001b[0;32m      1\u001b[0m \u001b[0mage\u001b[0m \u001b[1;33m=\u001b[0m \u001b[0minput\u001b[0m\u001b[1;33m(\u001b[0m\u001b[1;34m\"How old are You?\"\u001b[0m\u001b[1;33m)\u001b[0m\u001b[1;33m\u001b[0m\u001b[1;33m\u001b[0m\u001b[0m\n\u001b[1;32m----> 2\u001b[1;33m \u001b[1;32mif\u001b[0m \u001b[0mage\u001b[0m \u001b[1;33m>=\u001b[0m\u001b[1;36m18\u001b[0m\u001b[1;33m:\u001b[0m\u001b[1;33m\u001b[0m\u001b[1;33m\u001b[0m\u001b[0m\n\u001b[0m\u001b[0;32m      3\u001b[0m     \u001b[0mprint\u001b[0m\u001b[1;33m(\u001b[0m\u001b[1;34m\"Your Eligable to Cast Your Vote\"\u001b[0m\u001b[1;33m)\u001b[0m\u001b[1;33m\u001b[0m\u001b[1;33m\u001b[0m\u001b[0m\n\u001b[0;32m      4\u001b[0m \u001b[1;32melse\u001b[0m\u001b[1;33m:\u001b[0m\u001b[1;33m\u001b[0m\u001b[1;33m\u001b[0m\u001b[0m\n\u001b[0;32m      5\u001b[0m     \u001b[0mprint\u001b[0m\u001b[1;33m(\u001b[0m\u001b[1;34m\"Still Your not eligable to cast your Vote Due to age criteria! Try for Next time Election!!\"\u001b[0m\u001b[1;33m)\u001b[0m\u001b[1;33m\u001b[0m\u001b[1;33m\u001b[0m\u001b[0m\n",
      "\u001b[1;31mTypeError\u001b[0m: '>=' not supported between instances of 'str' and 'int'"
     ]
    }
   ],
   "source": [
    "age = input(\"How old are You?\")\n",
    "if age >=18:\n",
    "    print(\"Your Eligable to Cast Your Vote\")\n",
    "else:\n",
    "    print(\"Still Your not eligable to cast your Vote Due to age criteria! Try for Next time Election!!\")"
   ]
  },
  {
   "cell_type": "code",
   "execution_count": null,
   "metadata": {},
   "outputs": [],
   "source": [
    "#Note: In above condition we are giving 'int' value But in Python input() will take everything as 'Str' only \n",
    "#To achieve this condition we need to use \"typecast\"\n",
    "#Syntax: int()   float()"
   ]
  },
  {
   "cell_type": "code",
   "execution_count": 15,
   "metadata": {},
   "outputs": [
    {
     "name": "stdout",
     "output_type": "stream",
     "text": [
      "How old are You?\t18\n",
      "\n",
      "Your Eligable to Cast Your Vote\n"
     ]
    }
   ],
   "source": [
    "age = input(\"How old are You?\\t\")\n",
    "age = int(age)   # Here we areconverting/taking input of value as 'int'\n",
    "if age >=18:\n",
    "    print(\"\\nYour Eligable to Cast Your Vote\")\n",
    "else:\n",
    "    print(\"Still Your not eligable to cast your Vote Due to age criteria! Try for Next time Election!!\")"
   ]
  },
  {
   "cell_type": "code",
   "execution_count": 17,
   "metadata": {},
   "outputs": [
    {
     "name": "stdout",
     "output_type": "stream",
     "text": [
      "How old are You?\t17\n",
      "\n",
      "Still Your not eligable to cast your Vote Due to age criteria! Try for Next time Election!!\n"
     ]
    }
   ],
   "source": [
    "age = input(\"How old are You?\\t\")\n",
    "age = int(age)   # Here we areconverting/taking input of value as 'int'\n",
    "if age >=18:\n",
    "    print(\"\\nYour Eligable to Cast Your Vote\")\n",
    "else:\n",
    "    print(\"\\nStill Your not eligable to cast your Vote Due to age criteria! Try for Next time Election!!\")"
   ]
  },
  {
   "cell_type": "code",
   "execution_count": 19,
   "metadata": {},
   "outputs": [
    {
     "name": "stdout",
     "output_type": "stream",
     "text": [
      "Thanks for the Day7 class and Its Pratice file\n"
     ]
    }
   ],
   "source": [
    "print(\"Thanks for the Day7 class and Its Pratice file\")"
   ]
  },
  {
   "cell_type": "code",
   "execution_count": null,
   "metadata": {},
   "outputs": [],
   "source": []
  }
 ],
 "metadata": {
  "kernelspec": {
   "display_name": "Python 3",
   "language": "python",
   "name": "python3"
  },
  "language_info": {
   "codemirror_mode": {
    "name": "ipython",
    "version": 3
   },
   "file_extension": ".py",
   "mimetype": "text/x-python",
   "name": "python",
   "nbconvert_exporter": "python",
   "pygments_lexer": "ipython3",
   "version": "3.7.4"
  }
 },
 "nbformat": 4,
 "nbformat_minor": 2
}
