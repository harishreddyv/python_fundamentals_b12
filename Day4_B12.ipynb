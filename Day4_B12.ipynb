{
 "cells": [
  {
   "cell_type": "code",
   "execution_count": 1,
   "metadata": {},
   "outputs": [
    {
     "data": {
      "text/plain": [
       "['vehari', 'veera', 'pavan', 'ramesh', 'prasad', 'praveen', 'sravan']"
      ]
     },
     "execution_count": 1,
     "metadata": {},
     "output_type": "execute_result"
    }
   ],
   "source": [
    "#Adding, Removing and Changing Elements In Index\n",
    "\n",
    "my_students = ['vehari','veera','pavan','ramesh','prasad','praveen','sravan']\n",
    "my_students"
   ]
  },
  {
   "cell_type": "code",
   "execution_count": 7,
   "metadata": {},
   "outputs": [
    {
     "name": "stdout",
     "output_type": "stream",
     "text": [
      "['booo', 'veera', 'pavan', 'ramesh', 'prasad', 'praveen', 'sravan', 'Harish', 'Harish', 'Harish', 'Harish', 'Harish']\n"
     ]
    }
   ],
   "source": [
    "#Adding Elements \n",
    "my_students.append('Harish')\n",
    "my_students\n",
    "\n",
    "#adding elements based on Index\n",
    "\n",
    "my_students[0]='booo'\n",
    "print(my_students)\n"
   ]
  },
  {
   "cell_type": "code",
   "execution_count": 10,
   "metadata": {},
   "outputs": [
    {
     "name": "stdout",
     "output_type": "stream",
     "text": [
      "['booo', 'veera', 'pavan', 'sri', 'sri', 'ramesh', 'prasad', 'praveen', 'sravan', 'Harish', 'Harish', 'Harish', 'Harish', 'Harish']\n"
     ]
    }
   ],
   "source": [
    "my_students.insert(3,'sri')\n",
    "print(my_students)"
   ]
  },
  {
   "cell_type": "code",
   "execution_count": 11,
   "metadata": {},
   "outputs": [
    {
     "name": "stdout",
     "output_type": "stream",
     "text": [
      "['booo', 'veera', 'pavan', 'sri', 'ramesh', 'prasad', 'praveen', 'sravan', 'Harish', 'Harish', 'Harish', 'Harish', 'Harish']\n"
     ]
    }
   ],
   "source": [
    "#removing elements baseed on index postion\n",
    "del my_students[4]\n",
    "print(my_students)"
   ]
  },
  {
   "cell_type": "code",
   "execution_count": 15,
   "metadata": {},
   "outputs": [
    {
     "data": {
      "text/plain": [
       "'Harish'"
      ]
     },
     "execution_count": 15,
     "metadata": {},
     "output_type": "execute_result"
    }
   ],
   "source": [
    "#pop menthod using removing element\n",
    "my_students.pop()\n"
   ]
  },
  {
   "cell_type": "code",
   "execution_count": 16,
   "metadata": {},
   "outputs": [
    {
     "name": "stdout",
     "output_type": "stream",
     "text": [
      "['booo', 'veera', 'pavan', 'sri', 'ramesh', 'prasad', 'praveen', 'sravan', 'Harish']\n"
     ]
    }
   ],
   "source": [
    "print(my_students)"
   ]
  },
  {
   "cell_type": "code",
   "execution_count": 17,
   "metadata": {},
   "outputs": [
    {
     "data": {
      "text/plain": [
       "'veera'"
      ]
     },
     "execution_count": 17,
     "metadata": {},
     "output_type": "execute_result"
    }
   ],
   "source": [
    "my_students.pop(1)"
   ]
  },
  {
   "cell_type": "code",
   "execution_count": 18,
   "metadata": {},
   "outputs": [
    {
     "name": "stdout",
     "output_type": "stream",
     "text": [
      "['booo', 'pavan', 'sri', 'ramesh', 'prasad', 'praveen', 'sravan', 'Harish']\n"
     ]
    }
   ],
   "source": [
    "print(my_students)"
   ]
  },
  {
   "cell_type": "code",
   "execution_count": 22,
   "metadata": {},
   "outputs": [
    {
     "name": "stdout",
     "output_type": "stream",
     "text": [
      "['Hadoop', 'Harish', 'Hive', 'pig', 'nifi']\n"
     ]
    }
   ],
   "source": [
    "#Organsing alist \n",
    "students=['Hadoop','Harish','Hive','pig','nifi']\n",
    "print(students)"
   ]
  },
  {
   "cell_type": "code",
   "execution_count": 23,
   "metadata": {},
   "outputs": [
    {
     "name": "stdout",
     "output_type": "stream",
     "text": [
      "['Hadoop', 'Harish', 'Hive', 'nifi', 'pig']\n"
     ]
    }
   ],
   "source": [
    "#sorting elemts\n",
    "students.sort()\n",
    "print(students)"
   ]
  },
  {
   "cell_type": "code",
   "execution_count": 25,
   "metadata": {},
   "outputs": [
    {
     "name": "stdout",
     "output_type": "stream",
     "text": [
      "['sravan', 'sandhya', 'siresh', 'siresh']\n"
     ]
    }
   ],
   "source": [
    "students2=['sravan','sandhya','siresh','siresh']\n",
    "print(students2)\n"
   ]
  },
  {
   "cell_type": "code",
   "execution_count": 26,
   "metadata": {},
   "outputs": [
    {
     "name": "stdout",
     "output_type": "stream",
     "text": [
      "['sandhya', 'siresh', 'siresh', 'sravan']\n"
     ]
    }
   ],
   "source": [
    "print(sorted(students2))"
   ]
  },
  {
   "cell_type": "code",
   "execution_count": 27,
   "metadata": {},
   "outputs": [
    {
     "name": "stdout",
     "output_type": "stream",
     "text": [
      "['sravan', 'sandhya', 'siresh', 'siresh']\n"
     ]
    }
   ],
   "source": [
    "print(students2)"
   ]
  },
  {
   "cell_type": "code",
   "execution_count": null,
   "metadata": {},
   "outputs": [],
   "source": []
  }
 ],
 "metadata": {
  "kernelspec": {
   "display_name": "Python 3",
   "language": "python",
   "name": "python3"
  },
  "language_info": {
   "codemirror_mode": {
    "name": "ipython",
    "version": 3
   },
   "file_extension": ".py",
   "mimetype": "text/x-python",
   "name": "python",
   "nbconvert_exporter": "python",
   "pygments_lexer": "ipython3",
   "version": "3.7.4"
  }
 },
 "nbformat": 4,
 "nbformat_minor": 2
}
