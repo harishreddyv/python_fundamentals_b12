{
 "cells": [
  {
   "cell_type": "markdown",
   "metadata": {},
   "source": [
    "# Python Functions"
   ]
  },
  {
   "cell_type": "code",
   "execution_count": 11,
   "metadata": {},
   "outputs": [],
   "source": [
    "def greet_user():\n",
    "    \"\"\"Display a Simple Greeting\"\"\"\n",
    "    print('Hello')"
   ]
  },
  {
   "cell_type": "code",
   "execution_count": 9,
   "metadata": {},
   "outputs": [
    {
     "name": "stdout",
     "output_type": "stream",
     "text": [
      "Hello\n"
     ]
    }
   ],
   "source": [
    "greet_user()"
   ]
  },
  {
   "cell_type": "code",
   "execution_count": 16,
   "metadata": {},
   "outputs": [],
   "source": [
    "#example: \n",
    "\n",
    "def user_call(username):\n",
    "    \"\"\"Display The User/Customer Name:\"\"\"\n",
    "    print(f\"It's Good to See You Back Mr.{username.upper()}\")"
   ]
  },
  {
   "cell_type": "code",
   "execution_count": 17,
   "metadata": {},
   "outputs": [
    {
     "name": "stdout",
     "output_type": "stream",
     "text": [
      "It's Good to See You Back Mr.HARISH\n"
     ]
    }
   ],
   "source": [
    "user_call('harish')"
   ]
  },
  {
   "cell_type": "code",
   "execution_count": 20,
   "metadata": {},
   "outputs": [
    {
     "name": "stdout",
     "output_type": "stream",
     "text": [
      "It's Good to See You Back Mr.VEERA\n"
     ]
    }
   ],
   "source": [
    "user_call('veera')"
   ]
  },
  {
   "cell_type": "code",
   "execution_count": null,
   "metadata": {},
   "outputs": [],
   "source": []
  },
  {
   "cell_type": "code",
   "execution_count": null,
   "metadata": {},
   "outputs": [],
   "source": [
    "##Types of Arguments  1)Positional argus 2)Keyword argus  3)Default argus / Hard coding the values "
   ]
  },
  {
   "cell_type": "code",
   "execution_count": 44,
   "metadata": {},
   "outputs": [],
   "source": [
    "#Example:   pet and pet name\n",
    "\n",
    "def describe_pet(animal_type, pet_name):\n",
    "    \"\"\"Display  Information about the pet\"\"\"\n",
    "    print(f\"I have a pet: {animal_type}\")\n",
    "    print(f\"\\nMy pet name is : {pet_name}\")"
   ]
  },
  {
   "cell_type": "code",
   "execution_count": 45,
   "metadata": {},
   "outputs": [
    {
     "name": "stdout",
     "output_type": "stream",
     "text": [
      "I have a pet: dog\n",
      "\n",
      "My pet name is : bruno\n"
     ]
    }
   ],
   "source": [
    "#1> Positional Argus\n",
    "\n",
    "describe_pet('dog', 'bruno')"
   ]
  },
  {
   "cell_type": "code",
   "execution_count": 46,
   "metadata": {},
   "outputs": [
    {
     "name": "stdout",
     "output_type": "stream",
     "text": [
      "I have a pet: dog\n",
      "\n",
      "My pet name is : bruno\n"
     ]
    }
   ],
   "source": [
    "#2>Key word argument\n",
    "\n",
    "describe_pet (pet_name ='bruno', animal_type='dog')"
   ]
  },
  {
   "cell_type": "markdown",
   "metadata": {},
   "source": [
    "#3> Hardcoding /default value"
   ]
  },
  {
   "cell_type": "code",
   "execution_count": 48,
   "metadata": {},
   "outputs": [
    {
     "name": "stdout",
     "output_type": "stream",
     "text": [
      "I have a pet: bruno\n",
      "\n",
      "My pet name is : dog\n"
     ]
    }
   ],
   "source": [
    "describe_pet('bruno', 'dog')"
   ]
  },
  {
   "cell_type": "code",
   "execution_count": 50,
   "metadata": {},
   "outputs": [
    {
     "name": "stdout",
     "output_type": "stream",
     "text": [
      "Thanks for the Today's Class\n"
     ]
    }
   ],
   "source": [
    "print(\"Thanks for the Today's Class\")"
   ]
  },
  {
   "cell_type": "code",
   "execution_count": null,
   "metadata": {},
   "outputs": [],
   "source": []
  }
 ],
 "metadata": {
  "kernelspec": {
   "display_name": "Python 3",
   "language": "python",
   "name": "python3"
  },
  "language_info": {
   "codemirror_mode": {
    "name": "ipython",
    "version": 3
   },
   "file_extension": ".py",
   "mimetype": "text/x-python",
   "name": "python",
   "nbconvert_exporter": "python",
   "pygments_lexer": "ipython3",
   "version": "3.7.4"
  }
 },
 "nbformat": 4,
 "nbformat_minor": 2
}
