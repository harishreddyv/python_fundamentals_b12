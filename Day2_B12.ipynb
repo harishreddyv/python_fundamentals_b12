{
 "cells": [
  {
   "cell_type": "code",
   "execution_count": 13,
   "metadata": {},
   "outputs": [
    {
     "ename": "SyntaxError",
     "evalue": "invalid syntax (<ipython-input-13-930ab5da7961>, line 8)",
     "output_type": "error",
     "traceback": [
      "\u001b[1;36m  File \u001b[1;32m\"<ipython-input-13-930ab5da7961>\"\u001b[1;36m, line \u001b[1;32m8\u001b[0m\n\u001b[1;33m    abc$ = 'one'\u001b[0m\n\u001b[1;37m       ^\u001b[0m\n\u001b[1;31mSyntaxError\u001b[0m\u001b[1;31m:\u001b[0m invalid syntax\n"
     ]
    }
   ],
   "source": [
    "#Variables In Python \n",
    "#We can declare variables in 3 types \n",
    "\n",
    "first_name = \"vehari\"\n",
    "\n",
    "xyz1 = 1000\n",
    "\n",
    "abc$ = 'one'\n",
    "\n",
    "#Note: --> Please specify why i'm getting invalid syntax (I declared variable with special'$' character but not stating with)"
   ]
  },
  {
   "cell_type": "code",
   "execution_count": 16,
   "metadata": {},
   "outputs": [],
   "source": [
    "#Data Types In python mainly below list\n",
    "\n",
    "1.String --> str\n",
    "2.List --> list\n",
    "3.Tuple --> tuple\n",
    "4.Dictionary --> dict"
   ]
  },
  {
   "cell_type": "code",
   "execution_count": 20,
   "metadata": {},
   "outputs": [
    {
     "name": "stdout",
     "output_type": "stream",
     "text": [
      "vehari veera\n"
     ]
    },
    {
     "data": {
      "text/plain": [
       "str"
      ]
     },
     "execution_count": 20,
     "metadata": {},
     "output_type": "execute_result"
    }
   ],
   "source": [
    "#Sting we can declare 3 ways ex:  name = 'vehari veera' | name = \"vehari veera\" | name \"\"\"vehari veera\"\"\"\n",
    "name = 'vehari veera'\n",
    "print(name)\n",
    "type(name)"
   ]
  },
  {
   "cell_type": "code",
   "execution_count": 25,
   "metadata": {},
   "outputs": [
    {
     "name": "stdout",
     "output_type": "stream",
     "text": [
      "vehari veera\n",
      "Vehari Veera\n",
      "VEHARI VEERA\n",
      "vehari veera\n"
     ]
    }
   ],
   "source": [
    "#String Methods , Enhancement of the code \n",
    "\n",
    "print(name)\n",
    "print(name.title())\n",
    "print(name.upper())\n",
    "print(name.lower())"
   ]
  },
  {
   "cell_type": "code",
   "execution_count": 40,
   "metadata": {},
   "outputs": [
    {
     "name": "stdout",
     "output_type": "stream",
     "text": [
      "vehari veera\n",
      " it's secon day patice of python fundamentals vehari veera\n"
     ]
    }
   ],
   "source": [
    "#Using the concepts of string methods \n",
    "\n",
    "f_name = 'vehari'\n",
    "l_name = 'veera'\n",
    "full_name = f\"{f_name} {l_name}\"\n",
    "print(full_name)\n",
    "\n",
    "full_name= f\" it's secon day patice of python fundamentals {f_name} {l_name}\"\n",
    "print(full_name)\n"
   ]
  },
  {
   "cell_type": "code",
   "execution_count": null,
   "metadata": {},
   "outputs": [],
   "source": []
  }
 ],
 "metadata": {
  "kernelspec": {
   "display_name": "Python 3",
   "language": "python",
   "name": "python3"
  },
  "language_info": {
   "codemirror_mode": {
    "name": "ipython",
    "version": 3
   },
   "file_extension": ".py",
   "mimetype": "text/x-python",
   "name": "python",
   "nbconvert_exporter": "python",
   "pygments_lexer": "ipython3",
   "version": "3.7.4"
  }
 },
 "nbformat": 4,
 "nbformat_minor": 2
}
