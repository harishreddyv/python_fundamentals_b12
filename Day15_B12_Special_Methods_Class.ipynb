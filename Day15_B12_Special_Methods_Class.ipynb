{
 "cells": [
  {
   "cell_type": "code",
   "execution_count": 2,
   "metadata": {},
   "outputs": [],
   "source": [
    "#Special Methods of a Class\n",
    "#Constructors / Automaticaly Invokes the Attributes inside it\n",
    "\n",
    "#Defining a Constructor:\n",
    "\n",
    "    def __init__    #use double underscores"
   ]
  },
  {
   "cell_type": "code",
   "execution_count": 7,
   "metadata": {},
   "outputs": [],
   "source": [
    "class Dog:\n",
    "    \"\"\"A Simple Attempt To Model Dog\"\"\"\n",
    "    def __init__(self, name, age):\n",
    "        self.name = name\n",
    "        self.age = age\n",
    "        print(\"Successfuly executed and called out\")\n",
    "    def site(self):\n",
    "        \"\"\"Stimulate a Dog  Sitting in Response to a Command!:\"\"\"\n",
    "        print(f\"{self.name} is now sitting\")\n",
    "    def rool_over(self):\n",
    "        \"\"\"Stimulate a Dog Roll Over In a Response to a Command!:\"\"\"\n",
    "        print(f\"{self.name} rolled over!\")"
   ]
  },
  {
   "cell_type": "code",
   "execution_count": 8,
   "metadata": {},
   "outputs": [
    {
     "name": "stdout",
     "output_type": "stream",
     "text": [
      "Successfuly executed and called out\n"
     ]
    }
   ],
   "source": [
    "xobj =Dog('rex', 4)"
   ]
  },
  {
   "cell_type": "code",
   "execution_count": 23,
   "metadata": {},
   "outputs": [
    {
     "name": "stdout",
     "output_type": "stream",
     "text": [
      "rex is now sitting\n"
     ]
    }
   ],
   "source": [
    "xobj.site()"
   ]
  },
  {
   "cell_type": "code",
   "execution_count": 24,
   "metadata": {},
   "outputs": [
    {
     "name": "stdout",
     "output_type": "stream",
     "text": [
      "rex rolled over!\n"
     ]
    }
   ],
   "source": [
    "xobj.rool_over()"
   ]
  },
  {
   "cell_type": "markdown",
   "metadata": {},
   "source": [
    "# Passing Arbitary num of Arguments"
   ]
  },
  {
   "cell_type": "code",
   "execution_count": 25,
   "metadata": {},
   "outputs": [],
   "source": [
    "#Req: Making Pizza example \n",
    "# '*' ->kwargs\n"
   ]
  },
  {
   "cell_type": "code",
   "execution_count": 41,
   "metadata": {},
   "outputs": [],
   "source": [
    "def make_pizza(*toppings):\n",
    "    \"\"\"Pizza Toppings List\"\"\"\n",
    "    print(toppings)\n",
    "    "
   ]
  },
  {
   "cell_type": "code",
   "execution_count": 42,
   "metadata": {},
   "outputs": [
    {
     "name": "stdout",
     "output_type": "stream",
     "text": [
      "('Olives', 'Mushroom', 'corn')\n"
     ]
    }
   ],
   "source": [
    "make_pizza('Olives', 'Mushroom', 'corn')"
   ]
  },
  {
   "cell_type": "code",
   "execution_count": 43,
   "metadata": {},
   "outputs": [
    {
     "name": "stdout",
     "output_type": "stream",
     "text": [
      "('Chicken', 'Veg', 'panner')\n"
     ]
    }
   ],
   "source": [
    "make_pizza(\"Chicken\", \"Veg\", \"panner\")"
   ]
  },
  {
   "cell_type": "code",
   "execution_count": 58,
   "metadata": {},
   "outputs": [],
   "source": [
    "#Enhancement of The Code Using \"for loop\"\n",
    "\n",
    "def make_pizza(*toppings):\n",
    "    \"\"\"Requesting Toppings List\"\"\"\n",
    "    print(f\"\\nMaking a Pizza With Following Toppings\\n\")\n",
    "    for topping in toppings:\n",
    "        print(f\"- {topping}\")"
   ]
  },
  {
   "cell_type": "code",
   "execution_count": 59,
   "metadata": {},
   "outputs": [
    {
     "name": "stdout",
     "output_type": "stream",
     "text": [
      "\n",
      "Making a Pizza With Following Toppings\n",
      "\n",
      "- Chicken\n",
      "- Veg\n",
      "- panner\n"
     ]
    }
   ],
   "source": [
    "make_pizza(\"Chicken\", \"Veg\", \"panner\")"
   ]
  },
  {
   "cell_type": "markdown",
   "metadata": {},
   "source": []
  },
  {
   "cell_type": "code",
   "execution_count": 68,
   "metadata": {},
   "outputs": [],
   "source": [
    "#Another Enchancement SIZE\n",
    "\n",
    "def make_pizza(size,*toppings):\n",
    "    \"\"\"Including Pizza size Also\"\"\"\n",
    "    print(f\"Cutomized Ordered : {size} with the {toppings} as the toppings\")"
   ]
  },
  {
   "cell_type": "code",
   "execution_count": 70,
   "metadata": {},
   "outputs": [
    {
     "name": "stdout",
     "output_type": "stream",
     "text": [
      "Cutomized Ordered : medium Size with the ('Chicken', 'Veg', 'panner') as the toppings\n"
     ]
    }
   ],
   "source": [
    "make_pizza(\"medium Size\", \"Chicken\", \"Veg\", \"panner\")"
   ]
  },
  {
   "cell_type": "code",
   "execution_count": 71,
   "metadata": {},
   "outputs": [
    {
     "name": "stdout",
     "output_type": "stream",
     "text": [
      "Thanks for the Today's Class\n"
     ]
    }
   ],
   "source": [
    "print(\"Thanks for the Today's Class\")"
   ]
  },
  {
   "cell_type": "code",
   "execution_count": null,
   "metadata": {},
   "outputs": [],
   "source": []
  }
 ],
 "metadata": {
  "kernelspec": {
   "display_name": "Python 3",
   "language": "python",
   "name": "python3"
  },
  "language_info": {
   "codemirror_mode": {
    "name": "ipython",
    "version": 3
   },
   "file_extension": ".py",
   "mimetype": "text/x-python",
   "name": "python",
   "nbconvert_exporter": "python",
   "pygments_lexer": "ipython3",
   "version": "3.7.4"
  }
 },
 "nbformat": 4,
 "nbformat_minor": 2
}
